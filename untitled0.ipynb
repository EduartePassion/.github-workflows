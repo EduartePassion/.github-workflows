{
  "nbformat": 4,
  "nbformat_minor": 0,
  "metadata": {
    "colab": {
      "provenance": [],
      "toc_visible": true,
      "authorship_tag": "ABX9TyMPNcN9xSxbQYnoLvy5eM1y",
      "include_colab_link": true
    },
    "kernelspec": {
      "name": "python3",
      "display_name": "Python 3"
    },
    "language_info": {
      "name": "python"
    }
  },
  "cells": [
    {
      "cell_type": "markdown",
      "metadata": {
        "id": "view-in-github",
        "colab_type": "text"
      },
      "source": [
        "<a href=\"https://colab.research.google.com/github/EduartePassion/.github-workflows/blob/main/untitled0.ipynb\" target=\"_parent\"><img src=\"https://colab.research.google.com/assets/colab-badge.svg\" alt=\"Open In Colab\"/></a>"
      ]
    },
    {
      "cell_type": "code",
      "execution_count": null,
      "metadata": {
        "colab": {
          "base_uri": "https://localhost:8080/"
        },
        "id": "6MCSsgyEwSPQ",
        "outputId": "dce76aeb-cf3b-44cf-9f94-924ec5e09e47"
      },
      "outputs": [
        {
          "name": "stdout",
          "output_type": "stream",
          "text": [
            "Desja calcular a média, pressione S ou N ?s\n",
            "Digite a nota 1 ... 5\n",
            "Digite a nota 2 ... 4\n",
            "Recuperação\n",
            "A média das notas é ... 4.5\n",
            "Deseja recalcular a média, pressione S ou N ?n\n"
          ]
        }
      ],
      "source": [
        "# inicio\n",
        "# Declaração de Variáveis\n",
        "# Literal = str / Número Inteiro = int / Número Real = float\n",
        "nota1 : float\n",
        "nota2 : float\n",
        "media : float\n",
        "decisao : str # adiciona a variável do tipo string\n",
        "\n",
        "# Adicionar a entrada da variável decisão\n",
        "decisao = str(input(\"Desja calcular a média, pressione S ou N ?\"))\n",
        "\n",
        "# Adicionar o laço de repetição enquanto (while)\n",
        "while decisao == \"S\" or decisao == \"s\" :\n",
        "\n",
        "  # Receber os valores nota1 e nota2, variáveis de entrada\n",
        "  nota1 = float(input(\"Digite a nota 1 ... \" ))\n",
        "  nota2 = float(input(\"Digite a nota 2 ... \" ))\n",
        "\n",
        "  # Fazer o processamento\n",
        "  media = (nota1 + nota2) / 2\n",
        "\n",
        "  # Condicional simples - apenas um teste lógico\n",
        "  if media > 5 :\n",
        "      print(\"Passou de ano!\")\n",
        "  elif media > 3 and media < 5 :\n",
        "      print(\"Recuperação\")\n",
        "  else :\n",
        "      print(\"Reprovado!\")\n",
        "\n",
        "  # Exibir o resultado - saída\n",
        "  print(\"A média das notas é ...\", media)\n",
        "\n",
        "  # Adicionar a entrada da decisão p/ recalcular\n",
        "  decisao = str(input(\"Deseja recalcular a média, pressione S ou N ?\"))\n",
        "\n",
        "  # Adicionar a mensagem de saída de agradecimento\n",
        "\n",
        "  #fim\n",
        "\n",
        "\n",
        "\n",
        "\n",
        "\n"
      ]
    },
    {
      "cell_type": "code",
      "source": [
        "# Declaração de Variáveis\n",
        "materias = [\"Matemática\", \"Língua Portuguesa\", \"Geografia\", \"Química\", \"História\", \"Biologia\"]\n",
        "notas = {materia: [] for materia in materias}\n",
        "\n",
        "# Função para calcular média de um bimestre\n",
        "def calcular_media_bimestre(bimestre):\n",
        "    notas_bimestre = [float(input(f\"Digite a nota de {materia} no {bimestre}º bimestre: \")) for materia in materias]\n",
        "    media_bimestre = sum(notas_bimestre) / len(materias)\n",
        "    return media_bimestre\n",
        "\n",
        "# Função para verificar se o aluno passou para o próximo bimestre\n",
        "def verificar_aprovacao(media_bimestre):\n",
        "    if media_bimestre >= 5:\n",
        "        print(\"Passou de bimestre!\")\n",
        "    elif 3 <= media_bimestre < 5:\n",
        "        print(\"Recuperação\")\n",
        "    else:\n",
        "        print(\"Reprovado!\")\n",
        "\n",
        "# Função para permitir alteração de notas de uma matéria\n",
        "def alterar_notas_materia(materia):\n",
        "    notas[materia] = [float(input(f\"Digite a nota de {materia}: \"))]\n",
        "\n",
        "# Adicionar o laço de repetição enquanto (while)\n",
        "while True:\n",
        "    # Receber o bimestre desejado\n",
        "    bimestre = int(input(\"Digite o número do bimestre (1, 2, 3, 4): \"))\n",
        "\n",
        "    # Calcular a média do bimestre\n",
        "    media_bimestre = calcular_media_bimestre(bimestre)\n",
        "\n",
        "    # Verificar se o aluno passou para o próximo bimestre\n",
        "    verificar_aprovacao(media_bimestre)\n",
        "\n",
        "    # Perguntar se deseja alterar notas de alguma matéria\n",
        "    alterar = input(\"Deseja alterar notas de alguma matéria (S/N)? \")\n",
        "    if alterar.upper() == \"S\":\n",
        "        materia = input(\"Digite o nome da matéria que deseja alterar: \")\n",
        "        if materia in materias:\n",
        "            alterar_notas_materia(materia)\n",
        "        else:\n",
        "            print(\"Matéria não encontrada!\")\n",
        "\n",
        "    # Perguntar se deseja recalcular a média\n",
        "    decisao = input(\"Deseja recalcular a média (S/N)? \")\n",
        "    if decisao.upper() != \"S\":\n",
        "        break\n",
        "\n",
        "print(\"Obrigado por usar o calculador de médias!\")\n"
      ],
      "metadata": {
        "colab": {
          "base_uri": "https://localhost:8080/"
        },
        "id": "1Ygykr12fl2U",
        "outputId": "cfb38f28-66bd-498d-83e7-0e10a19cf0f8"
      },
      "execution_count": null,
      "outputs": [
        {
          "output_type": "stream",
          "name": "stdout",
          "text": [
            "Digite o número do bimestre (1, 2, 3, 4): 4\n",
            "Digite a nota de Matemática no 4º bimestre: 4\n",
            "Digite a nota de Língua Portuguesa no 4º bimestre: 4\n",
            "Digite a nota de Geografia no 4º bimestre: 4\n",
            "Digite a nota de Química no 4º bimestre: 4\n",
            "Digite a nota de História no 4º bimestre: 4\n",
            "Digite a nota de Biologia no 4º bimestre: 4\n",
            "Recuperação\n",
            "Deseja alterar notas de alguma matéria (S/N)? 4\n",
            "Deseja recalcular a média (S/N)? n\n",
            "Obrigado por usar o calculador de médias!\n"
          ]
        }
      ]
    },
    {
      "cell_type": "markdown",
      "source": [
        "# Nova seção"
      ],
      "metadata": {
        "id": "WQBRGZNyfkn1"
      }
    },
    {
      "cell_type": "markdown",
      "source": [
        "# Nova seção"
      ],
      "metadata": {
        "id": "_ktG_Fp-eed7"
      }
    },
    {
      "cell_type": "code",
      "source": [
        "# inicio\n",
        "# Declarando as variáveis\n",
        "produto : str\n",
        "val_orig : float\n",
        "val_desc : float\n",
        "\n",
        "# Receber os valores de entrada\n",
        "produto = str(input(\"Digite o nome do produto: \"))\n",
        "val_orig = float(input(\"Digite o valor original do produto: \"))\n",
        "\n",
        "# Fazer o processamento - 10% de desconto\n",
        "val_desc = val_orig * 0.90 # Os percentuais devem ser tratados como decimais.\n",
        "\n",
        "# Condicional if, elif, else\n",
        "if val_desc > 1000 :\n",
        "    print(\"Muito caro\")\n",
        "elif val_desc > 800 and val_desc  <- 1000 :\n",
        "    print(\"Caro\")\n",
        "elif val_desc > 500 and val_desc <= 800 :\n",
        "    print(\"Justo\")\n",
        "else :\n",
        "    print(\"Barato\")\n",
        "\n",
        "\n",
        "# Mostrar as mensagens de saída\n",
        "print(\"Produto: \", produto)\n",
        "print(\"Valor Original: \", val_orig)\n",
        "print(\"Valor c/ Desconto: \", val_desc)\n",
        "\n",
        "#fim\n"
      ],
      "metadata": {
        "colab": {
          "base_uri": "https://localhost:8080/"
        },
        "id": "LLLGKCOfSD0Y",
        "outputId": "62914f31-f9dd-4c13-e2a8-794b25c5f3fc"
      },
      "execution_count": null,
      "outputs": [
        {
          "output_type": "stream",
          "name": "stdout",
          "text": [
            "Digite o nome do produto: jaqueta\n",
            "Digite o valor original do produto: 650\n",
            "Justo\n",
            "Produto:  jaqueta\n",
            "Valor Original:  650.0\n",
            "Valor c/ Desconto:  585.0\n"
          ]
        }
      ]
    }
  ]
}