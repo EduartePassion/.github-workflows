{
  "nbformat": 4,
  "nbformat_minor": 0,
  "metadata": {
    "colab": {
      "provenance": [],
      "toc_visible": true,
      "authorship_tag": "ABX9TyPAJmUKmZGHv01Wmi4dP0jn",
      "include_colab_link": true
    },
    "kernelspec": {
      "name": "python3",
      "display_name": "Python 3"
    },
    "language_info": {
      "name": "python"
    }
  },
  "cells": [
    {
      "cell_type": "markdown",
      "metadata": {
        "id": "view-in-github",
        "colab_type": "text"
      },
      "source": [
        "<a href=\"https://colab.research.google.com/github/EduartePassion/.github-workflows/blob/main/untitled0.ipynb\" target=\"_parent\"><img src=\"https://colab.research.google.com/assets/colab-badge.svg\" alt=\"Open In Colab\"/></a>"
      ]
    },
    {
      "cell_type": "code",
      "execution_count": null,
      "metadata": {
        "colab": {
          "base_uri": "https://localhost:8080/"
        },
        "id": "6MCSsgyEwSPQ",
        "outputId": "dce76aeb-cf3b-44cf-9f94-924ec5e09e47"
      },
      "outputs": [
        {
          "name": "stdout",
          "output_type": "stream",
          "text": [
            "Desja calcular a média, pressione S ou N ?s\n",
            "Digite a nota 1 ... 5\n",
            "Digite a nota 2 ... 4\n",
            "Recuperação\n",
            "A média das notas é ... 4.5\n",
            "Deseja recalcular a média, pressione S ou N ?n\n"
          ]
        }
      ],
      "source": [
        "# inicio\n",
        "# Declaração de Variáveis\n",
        "# Literal = str / Número Inteiro = int / Número Real = float\n",
        "nota1 : float\n",
        "nota2 : float\n",
        "media : float\n",
        "decisao : str # adiciona a variável do tipo string\n",
        "\n",
        "# Adicionar a entrada da variável decisão\n",
        "decisao = str(input(\"Desja calcular a média, pressione S ou N ?\"))\n",
        "\n",
        "# Adicionar o laço de repetição enquanto (while)\n",
        "while decisao == \"S\" or decisao == \"s\" :\n",
        "\n",
        "  # Receber os valores nota1 e nota2, variáveis de entrada\n",
        "  nota1 = float(input(\"Digite a nota 1 ... \" ))\n",
        "  nota2 = float(input(\"Digite a nota 2 ... \" ))\n",
        "\n",
        "  # Fazer o processamento\n",
        "  media = (nota1 + nota2) / 2\n",
        "\n",
        "  # Condicional simples - apenas um teste lógico\n",
        "  if media > 5 :\n",
        "      print(\"Passou de ano!\")\n",
        "  elif media > 3 and media < 5 :\n",
        "      print(\"Recuperação\")\n",
        "  else :\n",
        "      print(\"Reprovado!\")\n",
        "\n",
        "  # Exibir o resultado - saída\n",
        "  print(\"A média das notas é ...\", media)\n",
        "\n",
        "  # Adicionar a entrada da decisão p/ recalcular\n",
        "  decisao = str(input(\"Deseja recalcular a média, pressione S ou N ?\"))\n",
        "\n",
        "  # Adicionar a mensagem de saída de agradecimento\n",
        "\n",
        "  #fim\n",
        "\n",
        "\n",
        "\n",
        "\n",
        "\n"
      ]
    },
    {
      "cell_type": "code",
      "source": [
        "# Declaração de Variáveis\n",
        "materias = [\"Matemática\", \"Língua Portuguesa\", \"Geografia\", \"Química\", \"História\", \"Biologia\"]\n",
        "notas = {materia: [] for materia in materias}\n",
        "\n",
        "# Função para calcular média de um bimestre\n",
        "def calcular_media_bimestre(bimestre):\n",
        "    notas_bimestre = [float(input(f\"Digite a nota de {materia} no {bimestre}º bimestre: \")) for materia in materias]\n",
        "    media_bimestre = sum(notas_bimestre) / len(materias)\n",
        "    return media_bimestre\n",
        "\n",
        "# Função para verificar se o aluno passou para o próximo bimestre\n",
        "def verificar_aprovacao(media_bimestre):\n",
        "    if media_bimestre >= 5:\n",
        "        print(\"Passou de bimestre!\")\n",
        "    elif 3 <= media_bimestre < 5:\n",
        "        print(\"Recuperação\")\n",
        "    else:\n",
        "        print(\"Reprovado!\")\n",
        "\n",
        "# Função para permitir alteração de notas de uma matéria\n",
        "def alterar_notas_materia(materia):\n",
        "    notas[materia] = [float(input(f\"Digite a nota de {materia}: \"))]\n",
        "\n",
        "# Adicionar o laço de repetição enquanto (while)\n",
        "while True:\n",
        "    # Receber o bimestre desejado\n",
        "    bimestre = int(input(\"Digite o número do bimestre (1, 2, 3, 4): \"))\n",
        "\n",
        "    # Calcular a média do bimestre\n",
        "    media_bimestre = calcular_media_bimestre(bimestre)\n",
        "\n",
        "    # Verificar se o aluno passou para o próximo bimestre\n",
        "    verificar_aprovacao(media_bimestre)\n",
        "\n",
        "    # Perguntar se deseja alterar notas de alguma matéria\n",
        "    alterar = input(\"Deseja alterar notas de alguma matéria (S/N)? \")\n",
        "    if alterar.upper() == \"S\":\n",
        "        materia = input(\"Digite o nome da matéria que deseja alterar: \")\n",
        "        if materia in materias:\n",
        "            alterar_notas_materia(materia)\n",
        "        else:\n",
        "            print(\"Matéria não encontrada!\")\n",
        "\n",
        "    # Perguntar se deseja recalcular a média\n",
        "    decisao = input(\"Deseja recalcular a média (S/N)? \")\n",
        "    if decisao.upper() != \"S\":\n",
        "        break\n",
        "\n",
        "print(\"Obrigado por usar o calculador de médias!\")\n"
      ],
      "metadata": {
        "colab": {
          "base_uri": "https://localhost:8080/"
        },
        "id": "1Ygykr12fl2U",
        "outputId": "cfb38f28-66bd-498d-83e7-0e10a19cf0f8"
      },
      "execution_count": null,
      "outputs": [
        {
          "output_type": "stream",
          "name": "stdout",
          "text": [
            "Digite o número do bimestre (1, 2, 3, 4): 4\n",
            "Digite a nota de Matemática no 4º bimestre: 4\n",
            "Digite a nota de Língua Portuguesa no 4º bimestre: 4\n",
            "Digite a nota de Geografia no 4º bimestre: 4\n",
            "Digite a nota de Química no 4º bimestre: 4\n",
            "Digite a nota de História no 4º bimestre: 4\n",
            "Digite a nota de Biologia no 4º bimestre: 4\n",
            "Recuperação\n",
            "Deseja alterar notas de alguma matéria (S/N)? 4\n",
            "Deseja recalcular a média (S/N)? n\n",
            "Obrigado por usar o calculador de médias!\n"
          ]
        }
      ]
    },
    {
      "cell_type": "markdown",
      "source": [
        "# Nova seção"
      ],
      "metadata": {
        "id": "WQBRGZNyfkn1"
      }
    },
    {
      "cell_type": "markdown",
      "source": [
        "# Nova seção"
      ],
      "metadata": {
        "id": "_ktG_Fp-eed7"
      }
    },
    {
      "cell_type": "code",
      "source": [
        "# Função para calcular média de um bimestre\n",
        "def calcular_media_bimestre(notas_bimestre):\n",
        "    media_bimestre = sum(notas_bimestre) / len(notas_bimestre)\n",
        "    return media_bimestre\n",
        "\n",
        "# Função para verificar a situação do aluno em um bimestre\n",
        "def verificar_situacao_aluno(media_bimestre):\n",
        "    if media_bimestre >= 5:\n",
        "        return \"Aprovado\"\n",
        "    elif 3 <= media_bimestre < 5:\n",
        "        return \"Recuperação\"\n",
        "    else:\n",
        "        return \"Reprovado\"\n",
        "\n",
        "# Função para adicionar uma nova matéria\n",
        "def adicionar_materia(materias, notas):\n",
        "    nova_materia = input(\"Digite o nome da nova matéria: \")\n",
        "    materias.append(nova_materia)\n",
        "    notas[nova_materia] = []\n",
        "\n",
        "# Declaração de Variáveis\n",
        "materias = [\"Matemática\", \"Língua Portuguesa\", \"Geografia\", \"Química\", \"História\", \"Biologia\"]\n",
        "notas = {materia: [] for materia in materias}\n",
        "\n",
        "# Loop para entrada de notas de cada bimestre\n",
        "for bimestre in range(1, 5):\n",
        "    print(f\"\\nDigite as notas do {bimestre}º bimestre:\")\n",
        "    for materia in materias:\n",
        "        nota = float(input(f\"Digite a nota de {materia}: \"))\n",
        "        notas[materia].append(nota)\n",
        "\n",
        "# Calcular média e verificar situação para cada bimestre\n",
        "for bimestre in range(1, 5):\n",
        "    notas_bimestre = [notas[materia][bimestre - 1] for materia in materias]\n",
        "    media_bimestre = calcular_media_bimestre(notas_bimestre)\n",
        "    situacao = verificar_situacao_aluno(media_bimestre)\n",
        "    print(f\"\\nSituação do aluno no {bimestre}º bimestre: {situacao}\")\n",
        "\n",
        "# Perguntar se deseja adicionar uma nova matéria\n",
        "adicionar = input(\"\\nDeseja adicionar uma nova matéria (S/N)? \")\n",
        "if adicionar.upper() == \"S\":\n",
        "    adicionar_materia(materias, notas)\n",
        "\n",
        "# Exibir lista de matérias e suas respectivas notas\n",
        "print(\"\\nLista de matérias e suas notas:\")\n",
        "for materia, notas_materia in notas.items():\n",
        "    print(f\"{materia}: {notas_materia}\")\n"
      ],
      "metadata": {
        "colab": {
          "base_uri": "https://localhost:8080/"
        },
        "id": "IP0_pxCdegYr",
        "outputId": "9284b130-2ffe-4835-bfd2-20b46a19bfcd"
      },
      "execution_count": null,
      "outputs": [
        {
          "output_type": "stream",
          "name": "stdout",
          "text": [
            "\n",
            "Digite as notas do 1º bimestre:\n",
            "Digite a nota de Matemática: 5\n",
            "Digite a nota de Língua Portuguesa: 4\n",
            "Digite a nota de Geografia: 3\n",
            "Digite a nota de Química: 5\n",
            "Digite a nota de História: 5\n",
            "Digite a nota de Biologia: 4\n",
            "\n",
            "Digite as notas do 2º bimestre:\n",
            "Digite a nota de Matemática: 5\n",
            "Digite a nota de Língua Portuguesa: 4\n",
            "Digite a nota de Geografia: 4\n",
            "Digite a nota de Química: 4\n",
            "Digite a nota de História: 5\n",
            "Digite a nota de Biologia: 3\n",
            "\n",
            "Digite as notas do 3º bimestre:\n",
            "Digite a nota de Matemática: 3\n",
            "Digite a nota de Língua Portuguesa: 4\n",
            "Digite a nota de Geografia: 5\n",
            "Digite a nota de Química: 4\n",
            "Digite a nota de História: 4\n",
            "Digite a nota de Biologia: 4\n",
            "\n",
            "Digite as notas do 4º bimestre:\n",
            "Digite a nota de Matemática: 4\n",
            "Digite a nota de Língua Portuguesa: 4\n",
            "Digite a nota de Geografia: 4\n",
            "Digite a nota de Química: 4\n",
            "Digite a nota de História: 4\n",
            "Digite a nota de Biologia: 4\n",
            "\n",
            "Situação do aluno no 1º bimestre: Recuperação\n",
            "\n",
            "Situação do aluno no 2º bimestre: Recuperação\n",
            "\n",
            "Situação do aluno no 3º bimestre: Recuperação\n",
            "\n",
            "Situação do aluno no 4º bimestre: Recuperação\n",
            "\n",
            "Deseja adicionar uma nova matéria (S/N)? Filosofia\n",
            "\n",
            "Lista de matérias e suas notas:\n",
            "Matemática: [5.0, 5.0, 3.0, 4.0]\n",
            "Língua Portuguesa: [4.0, 4.0, 4.0, 4.0]\n",
            "Geografia: [3.0, 4.0, 5.0, 4.0]\n",
            "Química: [5.0, 4.0, 4.0, 4.0]\n",
            "História: [5.0, 5.0, 4.0, 4.0]\n",
            "Biologia: [4.0, 3.0, 4.0, 4.0]\n"
          ]
        }
      ]
    },
    {
      "cell_type": "code",
      "source": [
        "# Função para calcular média de um bimestre\n",
        "def calcular_media_bimestre(notas_bimestre):\n",
        "    media_bimestre = sum(notas_bimestre) / len(notas_bimestre)\n",
        "    return media_bimestre\n",
        "\n",
        "# Função para verificar a situação do aluno em um bimestre\n",
        "def verificar_situacao_aluno(media_bimestre):\n",
        "    if media_bimestre >= 5:\n",
        "        return \"Aprovado\"\n",
        "    elif 3 <= media_bimestre < 5:\n",
        "        return \"Recuperação\"\n",
        "    else:\n",
        "        return \"Reprovado\"\n",
        "\n",
        "# Função para adicionar uma nova matéria em qualquer bimestre\n",
        "def adicionar_nova_materia(materias, notas):\n",
        "    nova_materia = input(\"Digite o nome da nova matéria: \")\n",
        "    materias.append(nova_materia)\n",
        "    for bimestre in range(1, 5):\n",
        "        nota = float(input(f\"Digite a nota de {nova_materia} no {bimestre}º bimestre: \"))\n",
        "        notas[nova_materia].append(nota)\n",
        "\n",
        "# Declaração de Variáveis\n",
        "materias = [\"Matemática\", \"Língua Portuguesa\", \"Geografia\", \"Química\", \"História\", \"Biologia\"]\n",
        "notas = {materia: [] for materia in materias}\n",
        "\n",
        "# Loop para entrada de notas de cada bimestre\n",
        "for bimestre in range(1, 5):\n",
        "    print(f\"\\nDigite as notas do {bimestre}º bimestre:\")\n",
        "    for materia in materias:\n",
        "        nota = float(input(f\"Digite a nota de {materia}: \"))\n",
        "        notas[materia].append(nota)\n",
        "\n",
        "# Calcular média e verificar situação para cada bimestre\n",
        "for bimestre in range(1, 5):\n",
        "    notas_bimestre = [notas[materia][bimestre - 1] for materia in materias]\n",
        "    media_bimestre = calcular_media_bimestre(notas_bimestre)\n",
        "    situacao = verificar_situacao_aluno(media_bimestre)\n",
        "    print(f\"\\nSituação do aluno no {bimestre}º bimestre: {situacao}\")\n",
        "\n",
        "# Perguntar se deseja adicionar uma nova matéria\n",
        "adicionar = input(\"\\nDeseja adicionar uma nova matéria (S/N)? \")\n",
        "if adicionar.upper() == \"S\":\n",
        "    adicionar_nova_materia(materias, notas)\n",
        "\n",
        "# Exibir lista de matérias e suas respectivas notas\n",
        "print(\"\\nLista de matérias e suas notas:\")\n",
        "for materia, notas_materia in notas.items():\n",
        "    print(f\"{materia}: {notas_materia}\")\n",
        "5"
      ],
      "metadata": {
        "colab": {
          "base_uri": "https://localhost:8080/",
          "height": 1000
        },
        "id": "r6jwwX24hVre",
        "outputId": "23abecc0-64dd-4fb2-a998-5e259fcf133e"
      },
      "execution_count": null,
      "outputs": [
        {
          "name": "stdout",
          "output_type": "stream",
          "text": [
            "\n",
            "Digite as notas do 1º bimestre:\n",
            "Digite a nota de Matemática: 5\n",
            "Digite a nota de Língua Portuguesa: 5\n",
            "Digite a nota de Geografia: 5\n",
            "Digite a nota de Química: 5\n",
            "Digite a nota de História: 5\n",
            "Digite a nota de Biologia: 5\n",
            "\n",
            "Digite as notas do 2º bimestre:\n",
            "Digite a nota de Matemática: 4\n",
            "Digite a nota de Língua Portuguesa: 5\n",
            "Digite a nota de Geografia: 4\n",
            "Digite a nota de Química: 5\n",
            "Digite a nota de História: 4\n",
            "Digite a nota de Biologia: 5\n",
            "\n",
            "Digite as notas do 3º bimestre:\n",
            "Digite a nota de Matemática: 5\n",
            "Digite a nota de Língua Portuguesa: 4\n",
            "Digite a nota de Geografia: 5\n",
            "Digite a nota de Química: 4\n",
            "Digite a nota de História: 5\n",
            "Digite a nota de Biologia: 4\n",
            "\n",
            "Digite as notas do 4º bimestre:\n",
            "Digite a nota de Matemática: 4\n",
            "Digite a nota de Língua Portuguesa: 5\n",
            "Digite a nota de Geografia: 4\n",
            "Digite a nota de Química: 5\n",
            "Digite a nota de História: 4\n",
            "Digite a nota de Biologia: 5\n",
            "\n",
            "Situação do aluno no 1º bimestre: Aprovado\n",
            "\n",
            "Situação do aluno no 2º bimestre: Recuperação\n",
            "\n",
            "Situação do aluno no 3º bimestre: Recuperação\n",
            "\n",
            "Situação do aluno no 4º bimestre: Recuperação\n",
            "\n",
            "Deseja adicionar uma nova matéria (S/N)? S\n",
            "Digite o nome da nova matéria: Filosofia\n",
            "Digite a nota de Filosofia no 1º bimestre: 5\n"
          ]
        },
        {
          "output_type": "error",
          "ename": "KeyError",
          "evalue": "'Filosofia'",
          "traceback": [
            "\u001b[0;31m---------------------------------------------------------------------------\u001b[0m",
            "\u001b[0;31mKeyError\u001b[0m                                  Traceback (most recent call last)",
            "\u001b[0;32m<ipython-input-16-4fe8c40ff59b>\u001b[0m in \u001b[0;36m<cell line: 43>\u001b[0;34m()\u001b[0m\n\u001b[1;32m     42\u001b[0m \u001b[0madicionar\u001b[0m \u001b[0;34m=\u001b[0m \u001b[0minput\u001b[0m\u001b[0;34m(\u001b[0m\u001b[0;34m\"\\nDeseja adicionar uma nova matéria (S/N)? \"\u001b[0m\u001b[0;34m)\u001b[0m\u001b[0;34m\u001b[0m\u001b[0;34m\u001b[0m\u001b[0m\n\u001b[1;32m     43\u001b[0m \u001b[0;32mif\u001b[0m \u001b[0madicionar\u001b[0m\u001b[0;34m.\u001b[0m\u001b[0mupper\u001b[0m\u001b[0;34m(\u001b[0m\u001b[0;34m)\u001b[0m \u001b[0;34m==\u001b[0m \u001b[0;34m\"S\"\u001b[0m\u001b[0;34m:\u001b[0m\u001b[0;34m\u001b[0m\u001b[0;34m\u001b[0m\u001b[0m\n\u001b[0;32m---> 44\u001b[0;31m     \u001b[0madicionar_nova_materia\u001b[0m\u001b[0;34m(\u001b[0m\u001b[0mmaterias\u001b[0m\u001b[0;34m,\u001b[0m \u001b[0mnotas\u001b[0m\u001b[0;34m)\u001b[0m\u001b[0;34m\u001b[0m\u001b[0;34m\u001b[0m\u001b[0m\n\u001b[0m\u001b[1;32m     45\u001b[0m \u001b[0;34m\u001b[0m\u001b[0m\n\u001b[1;32m     46\u001b[0m \u001b[0;31m# Exibir lista de matérias e suas respectivas notas\u001b[0m\u001b[0;34m\u001b[0m\u001b[0;34m\u001b[0m\u001b[0m\n",
            "\u001b[0;32m<ipython-input-16-4fe8c40ff59b>\u001b[0m in \u001b[0;36madicionar_nova_materia\u001b[0;34m(materias, notas)\u001b[0m\n\u001b[1;32m     19\u001b[0m     \u001b[0;32mfor\u001b[0m \u001b[0mbimestre\u001b[0m \u001b[0;32min\u001b[0m \u001b[0mrange\u001b[0m\u001b[0;34m(\u001b[0m\u001b[0;36m1\u001b[0m\u001b[0;34m,\u001b[0m \u001b[0;36m5\u001b[0m\u001b[0;34m)\u001b[0m\u001b[0;34m:\u001b[0m\u001b[0;34m\u001b[0m\u001b[0;34m\u001b[0m\u001b[0m\n\u001b[1;32m     20\u001b[0m         \u001b[0mnota\u001b[0m \u001b[0;34m=\u001b[0m \u001b[0mfloat\u001b[0m\u001b[0;34m(\u001b[0m\u001b[0minput\u001b[0m\u001b[0;34m(\u001b[0m\u001b[0;34mf\"Digite a nota de {nova_materia} no {bimestre}º bimestre: \"\u001b[0m\u001b[0;34m)\u001b[0m\u001b[0;34m)\u001b[0m\u001b[0;34m\u001b[0m\u001b[0;34m\u001b[0m\u001b[0m\n\u001b[0;32m---> 21\u001b[0;31m         \u001b[0mnotas\u001b[0m\u001b[0;34m[\u001b[0m\u001b[0mnova_materia\u001b[0m\u001b[0;34m]\u001b[0m\u001b[0;34m.\u001b[0m\u001b[0mappend\u001b[0m\u001b[0;34m(\u001b[0m\u001b[0mnota\u001b[0m\u001b[0;34m)\u001b[0m\u001b[0;34m\u001b[0m\u001b[0;34m\u001b[0m\u001b[0m\n\u001b[0m\u001b[1;32m     22\u001b[0m \u001b[0;34m\u001b[0m\u001b[0m\n\u001b[1;32m     23\u001b[0m \u001b[0;31m# Declaração de Variáveis\u001b[0m\u001b[0;34m\u001b[0m\u001b[0;34m\u001b[0m\u001b[0m\n",
            "\u001b[0;31mKeyError\u001b[0m: 'Filosofia'"
          ]
        }
      ]
    },
    {
      "cell_type": "markdown",
      "source": [
        "# Nova seção"
      ],
      "metadata": {
        "id": "KY-gvz3CR-PP"
      }
    },
    {
      "cell_type": "code",
      "source": [
        "# inicio\n",
        "# Declarando as variáveis\n",
        "produto : str\n",
        "val_orig : float\n",
        "val_desc : float\n",
        "\n",
        "# Receber os valores de entrada\n",
        "produto = str(input(\"Digite o nome do produto: \"))\n",
        "val_orig = float(input(\"Digite o valor original do produto: \"))\n",
        "\n",
        "# Fazer o processamento - 10% de desconto\n",
        "val_desc = val_orig * 0.90 # Os percentuais devem ser tratados como decimais.\n",
        "\n",
        "# Condicional if, elif, else\n",
        "if val_desc > 1000 :\n",
        "    print(\"Muito caro\")\n",
        "elif val_desc > 800 and val_desc  <- 1000 :\n",
        "    print(\"Caro\")\n",
        "elif val_desc > 500 and val_desc <= 800 :\n",
        "    print(\"Justo\")\n",
        "else :\n",
        "    print(\"Barato\")\n",
        "\n",
        "\n",
        "# Mostrar as mensagens de saída\n",
        "print(\"Produto: \", produto)\n",
        "print(\"Valor Original: \", val_orig)\n",
        "print(\"Valor c/ Desconto: \", val_desc)\n",
        "\n",
        "#fim\n"
      ],
      "metadata": {
        "colab": {
          "base_uri": "https://localhost:8080/"
        },
        "id": "LLLGKCOfSD0Y",
        "outputId": "62914f31-f9dd-4c13-e2a8-794b25c5f3fc"
      },
      "execution_count": null,
      "outputs": [
        {
          "output_type": "stream",
          "name": "stdout",
          "text": [
            "Digite o nome do produto: jaqueta\n",
            "Digite o valor original do produto: 650\n",
            "Justo\n",
            "Produto:  jaqueta\n",
            "Valor Original:  650.0\n",
            "Valor c/ Desconto:  585.0\n"
          ]
        }
      ]
    }
  ]
}